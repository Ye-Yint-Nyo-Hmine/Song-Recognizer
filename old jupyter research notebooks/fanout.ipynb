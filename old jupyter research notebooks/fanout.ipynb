{
 "cells": [
  {
   "cell_type": "code",
   "execution_count": 3,
   "metadata": {},
   "outputs": [],
   "source": [
    "import numpy as np\n"
   ]
  },
  {
   "cell_type": "code",
   "execution_count": 2,
   "metadata": {},
   "outputs": [],
   "source": [
    "def local_peaks_to_fingerprints(local_peaks: list, num_fanout: int):\n",
    "\n",
    "    result = [] #should be a list of lists\n",
    "\n",
    "    if num_fanout <= len(local_peaks):\n",
    "        for i in range(len(local_peaks) - num_fanout): # subtract because it had to be only peaks after, and dont want index out of bounds error\n",
    "            i_fingerprints = []\n",
    "            i_freq, i_time = local_peaks[i]\n",
    "            for j in range(num_fanout):\n",
    "                f_freq, f_time = local_peaks[i+j]\n",
    "                i_fingerprints += [(i_freq, f_freq, f_time - i_time, i_time)]\n",
    "            \n",
    "            result += i_fingerprints\n",
    "        \n",
    "        return result # should be a 2d list, that can then be zipped w the peaks if we need to know which peak its associated with\n",
    "    else:\n",
    "        return \"IndexError\"\n",
    "\n",
    "\n"
   ]
  }
 ],
 "metadata": {
  "kernelspec": {
   "display_name": "week1",
   "language": "python",
   "name": "python3"
  },
  "language_info": {
   "codemirror_mode": {
    "name": "ipython",
    "version": 3
   },
   "file_extension": ".py",
   "mimetype": "text/x-python",
   "name": "python",
   "nbconvert_exporter": "python",
   "pygments_lexer": "ipython3",
   "version": "3.8.19"
  }
 },
 "nbformat": 4,
 "nbformat_minor": 2
}
