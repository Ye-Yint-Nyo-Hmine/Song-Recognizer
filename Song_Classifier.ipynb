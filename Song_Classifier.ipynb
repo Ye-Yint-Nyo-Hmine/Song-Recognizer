{
 "cells": [
  {
   "cell_type": "markdown",
   "id": "5593b271-deea-40e6-80b4-ad0b99b2062e",
   "metadata": {},
   "source": [
    "### Song Classifier"
   ]
  },
  {
   "cell_type": "markdown",
   "id": "dc4849b4-a677-4605-adec-8ded5086f0fe",
   "metadata": {},
   "source": [
    "##### Date: 7/11/2024\n",
    "##### Authors: Edwardia Fosah, Ye Yint Hmine, Zoe Granadoz, Bryan Wang, Manya Tandon"
   ]
  },
  {
   "cell_type": "code",
   "execution_count": 1,
   "id": "d1f3577c-7934-46d5-b9ad-ab8556c87153",
   "metadata": {},
   "outputs": [],
   "source": [
    "# run this cell (maybe twice to get %matplotlib notebook to work)\n",
    "import numpy as np\n",
    "import matplotlib.pyplot as plt\n",
    "import matplotlib.mlab as mlab\n",
    "from microphone import record_audio\n",
    "from IPython.display import Audio\n",
    "from typing import Tuple\n",
    "\n",
    "%matplotlib notebook\n",
    "%matplotlib inline"
   ]
  },
  {
   "cell_type": "code",
   "execution_count": 2,
   "id": "c563a05a-b262-400f-bd09-1da7f33673b9",
   "metadata": {},
   "outputs": [],
   "source": [
    "SAMPLING_RATE = 44100"
   ]
  },
  {
   "cell_type": "code",
   "execution_count": 6,
   "id": "82cc4c8f-c8c3-41aa-a4d6-1df6ea2614d3",
   "metadata": {},
   "outputs": [],
   "source": [
    "def convert_mic_frames_to_audio(frames: np.ndarray) -> np.ndarray:\n",
    "    \"\"\"Converts frames taken from microphone to 16-bit integers\n",
    "    \n",
    "    Parameters\n",
    "    ----------\n",
    "    frames : np.ndarray\n",
    "        List of bytes recorded from a microphone\n",
    "        \n",
    "    Returns\n",
    "    -------\n",
    "    numpy.ndarray\n",
    "        Bytes converted to 16-bit integers\n",
    "    \"\"\"\n",
    "\n",
    "    return np.hstack([np.frombuffer(i, np.int16) for i in frames])"
   ]
  },
  {
   "cell_type": "code",
   "execution_count": 7,
   "id": "3d0a6899-1083-4c4f-95ef-8b34db989ad2",
   "metadata": {},
   "outputs": [],
   "source": [
    "def load_music_file(file_path: str):\n",
    "    \"\"\"Loads a target music file path.\n",
    "\n",
    "    Parameters\n",
    "    ----------\n",
    "    file_path : str\n",
    "        File path of song\n",
    "        \n",
    "    Returns\n",
    "    -------\n",
    "    recorded_audio: np.ndarray\n",
    "        Audio samples\n",
    "\n",
    "    sampling_rate: int\n",
    "    \"\"\"\n",
    "\n",
    "    return librosa.load(file_path, sr=SAMPLING_RATE, mono=True)"
   ]
  },
  {
   "cell_type": "code",
   "execution_count": 8,
   "id": "9206fdfc-ff11-483b-a7f1-7d235ca67be4",
   "metadata": {},
   "outputs": [],
   "source": [
    "def make_random_clips(samples: np.ndarray, *, desired_length: int, count: int):\n",
    "    \"\"\"Takes audio samples and cuts {count} number of {desired_length} clips.\n",
    "\n",
    "    Parameters\n",
    "    ----------\n",
    "    samples: np.ndarray\n",
    "        Array of audio samples\n",
    "\n",
    "    desired_length: int\n",
    "        Length of each clip in seconds\n",
    "\n",
    "    count: int\n",
    "        Total number of clips\n",
    "        \n",
    "    Returns\n",
    "    -------\n",
    "    np.ndarray, shape-(count,N)\n",
    "        2-D array with {count} number of clip samples\n",
    "    \"\"\"\n",
    "    import random\n",
    "    \n",
    "    N = len(samples)\n",
    "    sampling_rate = SAMPLING_RATE\n",
    "    T = N / sampling_rate\n",
    "    percent_of_duration = desired_length / T\n",
    "    samples_per_clip = int(percent_of_duration * len(samples))\n",
    "    \n",
    "    clip_samples = []\n",
    "\n",
    "    for i in range(count):\n",
    "        random_sample_idx = random.randrange(0, N - samples_per_clip)\n",
    "        clip_sample = samples[random_sample_idx : random_sample_idx + samples_per_clip]\n",
    "        clip_samples.append(clip_sample)\n",
    "\n",
    "    return np.array(clip_samples)"
   ]
  },
  {
   "cell_type": "code",
   "execution_count": null,
   "id": "63cfd3b4-e0dc-425a-9ef3-a3cfbaaf5c30",
   "metadata": {},
   "outputs": [],
   "source": []
  }
 ],
 "metadata": {
  "kernelspec": {
   "display_name": "Python 3 (ipykernel)",
   "language": "python",
   "name": "python3"
  },
  "language_info": {
   "codemirror_mode": {
    "name": "ipython",
    "version": 3
   },
   "file_extension": ".py",
   "mimetype": "text/x-python",
   "name": "python",
   "nbconvert_exporter": "python",
   "pygments_lexer": "ipython3",
   "version": "3.12.2"
  }
 },
 "nbformat": 4,
 "nbformat_minor": 5
}
