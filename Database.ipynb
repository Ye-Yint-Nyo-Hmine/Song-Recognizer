{
 "cells": [
  {
   "cell_type": "code",
   "execution_count": 42,
   "id": "8b05b2be",
   "metadata": {},
   "outputs": [],
   "source": [
    "import uuid\n",
    "import os"
   ]
  },
  {
   "cell_type": "code",
   "execution_count": 43,
   "id": "8a1b1db3",
   "metadata": {},
   "outputs": [],
   "source": [
    "dict_data_to_id = {}\n",
    "dict_id_to_info = {}"
   ]
  },
  {
   "cell_type": "code",
   "execution_count": 44,
   "id": "8054ff1f",
   "metadata": {},
   "outputs": [],
   "source": [
    "def list_files_in_folder(folder_path):\n",
    "    files = os.listdir(folder_path)\n",
    "    file_names = [file for file in files if os.path.isfile(os.path.join(folder_path, file))]\n",
    "    return file_names"
   ]
  },
  {
   "cell_type": "code",
   "execution_count": 45,
   "id": "e17e310b",
   "metadata": {},
   "outputs": [],
   "source": [
    "def add_data_to_dict(key, file_names):\n",
    "    id = str(uuid.uuid4())\n",
    "    dict_data_to_id[key] = id\n",
    "    parts = file_names[key].split('--')\n",
    "    artist = parts[0].replace('-', ' ')\n",
    "    song = parts[1].replace('-', ' ')\n",
    "    info = (artist, song)\n",
    "    print(info)\n",
    "    dict_id_to_info[id] = info\n",
    "        "
   ]
  },
  {
   "cell_type": "code",
   "execution_count": 46,
   "id": "f9a6bf5a",
   "metadata": {},
   "outputs": [
    {
     "name": "stdout",
     "output_type": "stream",
     "text": [
      "5\n"
     ]
    }
   ],
   "source": [
    "folder_path = '/Users/bryan/Untitled Folder 2/Untitled Folder/music_files'\n",
    "file_names = list_files_in_folder(folder_path)\n",
    "file_names = file_names[1:]\n",
    "print(len(file_names))"
   ]
  },
  {
   "cell_type": "code",
   "execution_count": null,
   "id": "4d9eefff",
   "metadata": {},
   "outputs": [],
   "source": [
    "for song in range(len(file_names)):\n",
    "    song_path = folder_path + file_names[song]\n",
    "    #run wtv function starts the path with input of song_path\n",
    "    add_data_to_dict(finger_prints, file_names)"
   ]
  },
  {
   "cell_type": "code",
   "execution_count": 48,
   "id": "42043a1e",
   "metadata": {},
   "outputs": [],
   "source": [
    "def get_info():\n",
    "    print(dict_data_to_id)\n",
    "    print(dict_id_to_info)"
   ]
  },
  {
   "cell_type": "code",
   "execution_count": null,
   "id": "37dd1097",
   "metadata": {},
   "outputs": [],
   "source": [
    "get_info()"
   ]
  }
 ],
 "metadata": {
  "kernelspec": {
   "display_name": "Python 3 (ipykernel)",
   "language": "python",
   "name": "python3"
  },
  "language_info": {
   "codemirror_mode": {
    "name": "ipython",
    "version": 3
   },
   "file_extension": ".py",
   "mimetype": "text/x-python",
   "name": "python",
   "nbconvert_exporter": "python",
   "pygments_lexer": "ipython3",
   "version": "3.8.19"
  }
 },
 "nbformat": 4,
 "nbformat_minor": 5
}
