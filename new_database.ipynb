{
 "cells": [
  {
   "cell_type": "code",
   "execution_count": 57,
   "id": "8b05b2be",
   "metadata": {},
   "outputs": [],
   "source": [
    "import uuid\n",
    "import os"
   ]
  },
  {
   "cell_type": "code",
   "execution_count": 58,
   "id": "8a1b1db3",
   "metadata": {},
   "outputs": [],
   "source": [
    "dict_data_to_id = {}\n",
    "dict_id_to_info = {}"
   ]
  },
  {
   "cell_type": "code",
   "execution_count": 59,
   "id": "8054ff1f",
   "metadata": {},
   "outputs": [],
   "source": [
    "def list_files_in_folder(folder_path):\n",
    "    files = os.listdir(folder_path)\n",
    "    file_names = [file for file in files if os.path.isfile(os.path.join(folder_path, file))]\n",
    "    return file_names"
   ]
  },
  {
   "cell_type": "code",
   "execution_count": 60,
   "id": "e17e310b",
   "metadata": {},
   "outputs": [],
   "source": [
    "def add_data_to_dict(key, file_names):\n",
    "    id = str(uuid.uuid4())\n",
    "    dict_data_to_id[key] = id\n",
    "    parts = file_names[key].split('--')\n",
    "    song = parts[0].replace('-', ' ')\n",
    "    artist = parts[1].replace('-', ' ')\n",
    "    artist = artist.replace('.mp3', '')\n",
    "    info = (song, artist)\n",
    "    print(info)\n",
    "    dict_id_to_info[id] = info\n",
    "        "
   ]
  },
  {
   "cell_type": "code",
   "execution_count": 61,
   "id": "f9a6bf5a",
   "metadata": {},
   "outputs": [
    {
     "name": "stdout",
     "output_type": "stream",
     "text": [
      "16\n"
     ]
    }
   ],
   "source": [
    "folder_path = 'music_files/mp3'\n",
    "file_names = list_files_in_folder(folder_path)\n",
    "file_names = file_names[1:]\n",
    "print(len(file_names))"
   ]
  },
  {
   "cell_type": "code",
   "execution_count": 56,
   "id": "4d9eefff",
   "metadata": {},
   "outputs": [
    {
     "ename": "NameError",
     "evalue": "name 'finger_prints' is not defined",
     "output_type": "error",
     "traceback": [
      "\u001b[0;31m---------------------------------------------------------------------------\u001b[0m",
      "\u001b[0;31mNameError\u001b[0m                                 Traceback (most recent call last)",
      "Cell \u001b[0;32mIn[56], line 4\u001b[0m\n\u001b[1;32m      2\u001b[0m song_path \u001b[38;5;241m=\u001b[39m folder_path \u001b[38;5;241m+\u001b[39m file_names[song]\n\u001b[1;32m      3\u001b[0m \u001b[38;5;66;03m#run wtv function starts the path with input of song_path\u001b[39;00m\n\u001b[0;32m----> 4\u001b[0m add_data_to_dict(\u001b[43mfinger_prints\u001b[49m, file_names)\n",
      "\u001b[0;31mNameError\u001b[0m: name 'finger_prints' is not defined"
     ]
    }
   ],
   "source": [
    "for song in range(len(file_names)):\n",
    "    song_path = folder_path + file_names[song]\n",
    "    #run wtv function starts the path with input of song_path\n",
    "    add_data_to_dict(finger_prints, file_names)"
   ]
  },
  {
   "cell_type": "code",
   "execution_count": 48,
   "id": "42043a1e",
   "metadata": {},
   "outputs": [],
   "source": [
    "def get_info():\n",
    "    print(dict_data_to_id)\n",
    "    print(dict_id_to_info)"
   ]
  },
  {
   "cell_type": "code",
   "execution_count": 49,
   "id": "37dd1097",
   "metadata": {},
   "outputs": [
    {
     "name": "stdout",
     "output_type": "stream",
     "text": [
      "{0: 'b9fd2493-1b09-4020-87e7-8138545f8697', 1: 'a5c2aa42-04cf-4ec5-9ea6-fccf05548261', 2: '89c1f908-67a7-4a2a-92ac-cc8ac4958564', 3: '7ac9444d-311f-4e44-a08f-ec317adbe160', 4: '36f47fb2-2759-41c2-9461-2de383be3c4e'}\n",
      "{'b9fd2493-1b09-4020-87e7-8138545f8697': ('The Lights Galaxia', 'While She Sleeps.mp3'), 'a5c2aa42-04cf-4ec5-9ea6-fccf05548261': ('Choc', 'Eigenvalue Subspace Decomposition.mp3'), '89c1f908-67a7-4a2a-92ac-cc8ac4958564': ('Josh Woodward', 'I Want To Destroy Something Beautiful.mp3'), '7ac9444d-311f-4e44-a08f-ec317adbe160': ('Sean Fournier', 'Falling For You.mp3'), '36f47fb2-2759-41c2-9461-2de383be3c4e': ('Brad Sucks', 'Total Breakdown.mp3')}\n"
     ]
    }
   ],
   "source": [
    "get_info()"
   ]
  }
 ],
 "metadata": {
  "kernelspec": {
   "display_name": "Python 3 (ipykernel)",
   "language": "python",
   "name": "python3"
  },
  "language_info": {
   "codemirror_mode": {
    "name": "ipython",
    "version": 3
   },
   "file_extension": ".py",
   "mimetype": "text/x-python",
   "name": "python",
   "nbconvert_exporter": "python",
   "pygments_lexer": "ipython3",
   "version": "3.8.19"
  }
 },
 "nbformat": 4,
 "nbformat_minor": 5
}
